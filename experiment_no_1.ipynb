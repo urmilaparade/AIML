{
  "nbformat": 4,
  "nbformat_minor": 0,
  "metadata": {
    "colab": {
      "provenance": [],
      "authorship_tag": "ABX9TyPUi+EeQOuBFkM3nVS3E/NE",
      "include_colab_link": true
    },
    "kernelspec": {
      "name": "python3",
      "display_name": "Python 3"
    },
    "language_info": {
      "name": "python"
    }
  },
  "cells": [
    {
      "cell_type": "markdown",
      "metadata": {
        "id": "view-in-github",
        "colab_type": "text"
      },
      "source": [
        "<a href=\"https://colab.research.google.com/github/urmilaparade/AIML/blob/main/experiment_no_1.ipynb\" target=\"_parent\"><img src=\"https://colab.research.google.com/assets/colab-badge.svg\" alt=\"Open In Colab\"/></a>"
      ]
    },
    {
      "cell_type": "code",
      "execution_count": 1,
      "metadata": {
        "colab": {
          "base_uri": "https://localhost:8080/"
        },
        "id": "vu0olq3kTwuf",
        "outputId": "01973b84-0370-46f3-88bc-f9b359c0ebdf"
      },
      "outputs": [
        {
          "output_type": "stream",
          "name": "stdout",
          "text": [
            "enter the radius of circle40\n",
            "Area of circle: 5024.0\n"
          ]
        }
      ],
      "source": [
        "r=int(input(\"enter the radius of circle\"))\n",
        "area=3.14*r*r\n",
        "print(\"Area of circle:\",area)"
      ]
    }
  ]
}